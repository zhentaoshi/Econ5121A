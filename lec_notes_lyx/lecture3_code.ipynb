{
 "cells": [
  {
   "cell_type": "markdown",
   "metadata": {},
   "source": [
    "OLS fit"
   ]
  },
  {
   "cell_type": "code",
   "execution_count": 1,
   "metadata": {},
   "outputs": [
    {
     "name": "stdout",
     "output_type": "stream",
     "text": [
      "[1]  0.3151672  1.9546647 -0.8520387  0.1508770\n"
     ]
    }
   ],
   "source": [
    "library(magrittr); set.seed(2020-9-23)\n",
    "\n",
    "n = 20 # sample size  \n",
    "K = 4  # number of paramters\n",
    "b0 = as.matrix( c(0.5, 2, -1, 0) ) # the true coefficient\n",
    "X = cbind(1, matrix( rnorm(n * (K-1)), nrow = n ) )  # the regressor matrix \n",
    "e = rnorm(n) # the error term\n",
    "Y = X %*% b0 + e # generate the dependent variable\n",
    "bhat = solve(t(X) %*% X, t(X) %*% Y ) %>% as.vector() %>% print()"
   ]
  },
  {
   "cell_type": "markdown",
   "metadata": {},
   "source": [
    "something"
   ]
  },
  {
   "cell_type": "code",
   "execution_count": 2,
   "metadata": {},
   "outputs": [
    {
     "name": "stdout",
     "output_type": "stream",
     "text": [
      "[1]  2.775558e-15  5.285658e-15 -7.193253e-15 -2.085963e-15\n"
     ]
    },
    {
     "data": {
      "text/html": [
       "<table>\n",
       "<thead><tr><th scope=col>e</th><th scope=col>ehat</th><th scope=col>MXY</th><th scope=col>MXe</th></tr></thead>\n",
       "<tbody>\n",
       "\t<tr><td> 0.11468775</td><td> 0.2195704 </td><td> 0.2195704 </td><td> 0.2195704 </td></tr>\n",
       "\t<tr><td>-1.09300952</td><td>-0.7358326 </td><td>-0.7358326 </td><td>-0.7358326 </td></tr>\n",
       "\t<tr><td> 1.06084816</td><td> 0.7873848 </td><td> 0.7873848 </td><td> 0.7873848 </td></tr>\n",
       "\t<tr><td>-0.93399293</td><td>-0.5797384 </td><td>-0.5797384 </td><td>-0.5797384 </td></tr>\n",
       "\t<tr><td> 0.05697917</td><td> 0.3604994 </td><td> 0.3604994 </td><td> 0.3604994 </td></tr>\n",
       "\t<tr><td> 0.03431877</td><td> 0.1489134 </td><td> 0.1489134 </td><td> 0.1489134 </td></tr>\n",
       "</tbody>\n",
       "</table>\n"
      ],
      "text/latex": [
       "\\begin{tabular}{r|llll}\n",
       " e & ehat & MXY & MXe\\\\\n",
       "\\hline\n",
       "\t  0.11468775 &  0.2195704  &  0.2195704  &  0.2195704 \\\\\n",
       "\t -1.09300952 & -0.7358326  & -0.7358326  & -0.7358326 \\\\\n",
       "\t  1.06084816 &  0.7873848  &  0.7873848  &  0.7873848 \\\\\n",
       "\t -0.93399293 & -0.5797384  & -0.5797384  & -0.5797384 \\\\\n",
       "\t  0.05697917 &  0.3604994  &  0.3604994  &  0.3604994 \\\\\n",
       "\t  0.03431877 &  0.1489134  &  0.1489134  &  0.1489134 \\\\\n",
       "\\end{tabular}\n"
      ],
      "text/markdown": [
       "\n",
       "| e | ehat | MXY | MXe |\n",
       "|---|---|---|---|\n",
       "|  0.11468775 |  0.2195704  |  0.2195704  |  0.2195704  |\n",
       "| -1.09300952 | -0.7358326  | -0.7358326  | -0.7358326  |\n",
       "|  1.06084816 |  0.7873848  |  0.7873848  |  0.7873848  |\n",
       "| -0.93399293 | -0.5797384  | -0.5797384  | -0.5797384  |\n",
       "|  0.05697917 |  0.3604994  |  0.3604994  |  0.3604994  |\n",
       "|  0.03431877 |  0.1489134  |  0.1489134  |  0.1489134  |\n",
       "\n"
      ],
      "text/plain": [
       "  e           ehat       MXY        MXe       \n",
       "1  0.11468775  0.2195704  0.2195704  0.2195704\n",
       "2 -1.09300952 -0.7358326 -0.7358326 -0.7358326\n",
       "3  1.06084816  0.7873848  0.7873848  0.7873848\n",
       "4 -0.93399293 -0.5797384 -0.5797384 -0.5797384\n",
       "5  0.05697917  0.3604994  0.3604994  0.3604994\n",
       "6  0.03431877  0.1489134  0.1489134  0.1489134"
      ]
     },
     "metadata": {},
     "output_type": "display_data"
    },
    {
     "name": "stdout",
     "output_type": "stream",
     "text": [
      "The mean of the residual is  1.374064e-16 .\n",
      "The mean of the true error term is -0.1582708 ."
     ]
    }
   ],
   "source": [
    "ehat = Y - X %*% bhat \n",
    "as.vector( t(X) %*% ehat ) %>% print()\n",
    "MX = diag(n) - X %*% solve( crossprod(X) ) %*% t(X)\n",
    "data.frame(e = e, ehat = ehat, MXY = MX%*%Y, MXe = MX%*%e ) %>% head()\n",
    "cat(\"The mean of the residual is \", mean(ehat), \".\\n\")\n",
    "cat(\"The mean of the true error term is\", mean(e), \".\")"
   ]
  },
  {
   "cell_type": "markdown",
   "metadata": {},
   "source": [
    "FWL"
   ]
  },
  {
   "cell_type": "code",
   "execution_count": 3,
   "metadata": {},
   "outputs": [
    {
     "name": "stdout",
     "output_type": "stream",
     "text": [
      "[1] 0.3151672 1.9546647\n",
      "        ehat      ehat1\n",
      "1  0.2195704  0.2195704\n",
      "2 -0.7358326 -0.7358326\n",
      "3  0.7873848  0.7873848\n",
      "4 -0.5797384 -0.5797384\n",
      "5  0.3604994  0.3604994\n",
      "6  0.1489134  0.1489134\n"
     ]
    }
   ],
   "source": [
    "X1 = X[,1:2];X2 = X[,3:4]\n",
    "PX2 = X2 %*% solve( t(X2) %*% X2) %*% t(X2) \n",
    "MX2 = diag(rep(1,n)) - PX2\n",
    "\n",
    "bhat1 <- (solve(t(X1)%*% MX2 %*% X1, t(X1) %*% MX2 %*% Y )) %>%\n",
    "  as.vector() %>% print()\n",
    "\n",
    "ehat1 = MX2 %*% Y - MX2 %*% X1 %*% bhat1  \n",
    "data.frame(ehat = ehat, ehat1 = ehat1) %>% head() %>% print()"
   ]
  },
  {
   "cell_type": "markdown",
   "metadata": {},
   "source": [
    "overfit"
   ]
  },
  {
   "cell_type": "code",
   "execution_count": 4,
   "metadata": {},
   "outputs": [
    {
     "data": {
      "text/plain": [
       "\n",
       "Call:\n",
       "lm(formula = Y ~ X)\n",
       "\n",
       "Residuals:\n",
       "ALL 5 residuals are 0: no residual degrees of freedom!\n",
       "\n",
       "Coefficients: (2 not defined because of singularities)\n",
       "            Estimate Std. Error t value Pr(>|t|)\n",
       "(Intercept)  -0.2229         NA      NA       NA\n",
       "X1           -0.6422         NA      NA       NA\n",
       "X2            0.1170         NA      NA       NA\n",
       "X3            1.1844         NA      NA       NA\n",
       "X4            0.5883         NA      NA       NA\n",
       "X5                NA         NA      NA       NA\n",
       "X6                NA         NA      NA       NA\n",
       "\n",
       "Residual standard error: NaN on 0 degrees of freedom\n",
       "Multiple R-squared:      1,\tAdjusted R-squared:    NaN \n",
       "F-statistic:   NaN on 4 and 0 DF,  p-value: NA\n"
      ]
     },
     "metadata": {},
     "output_type": "display_data"
    }
   ],
   "source": [
    "n = 5; K = 6; \n",
    "Y = rnorm(n)\n",
    "X = matrix( rnorm(n*K), n)\n",
    "summary( lm(Y~X) )"
   ]
  }
 ],
 "metadata": {
  "kernelspec": {
   "display_name": "R",
   "language": "R",
   "name": "ir"
  },
  "language_info": {
   "codemirror_mode": "r",
   "file_extension": ".r",
   "mimetype": "text/x-r-source",
   "name": "R",
   "pygments_lexer": "r",
   "version": "3.5.3"
  },
  "orig_nbformat": 4
 },
 "nbformat": 4,
 "nbformat_minor": 2
}
