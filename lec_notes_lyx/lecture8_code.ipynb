{
 "cells": [
  {
   "cell_type": "markdown",
   "metadata": {},
   "source": [
    "confidence interval"
   ]
  },
  {
   "cell_type": "code",
   "execution_count": 1,
   "metadata": {},
   "outputs": [],
   "source": [
    "set.seed(2020-10-28)\n",
    "# function for two-sided confidence interval\n",
    "CI <- function(x) {# x is a vector of random variables\n",
    "  # nominal coverage probability is 90%\n",
    "  n <- length(x)\n",
    "  mu <- mean(x)\n",
    "  sig <- sd(x)\n",
    "  upper <- mu + 1.645 / sqrt(n) * sig\n",
    "  lower <- mu - 1.645/ sqrt(n) * sig\n",
    "  return(list(lower = lower, upper = upper))\n",
    "}"
   ]
  },
  {
   "cell_type": "markdown",
   "metadata": {},
   "source": [
    "empirical coverage"
   ]
  },
  {
   "cell_type": "code",
   "execution_count": 2,
   "metadata": {},
   "outputs": [
    {
     "name": "stdout",
     "output_type": "stream",
     "text": [
      "the emprical coverage probability =  0.845"
     ]
    }
   ],
   "source": [
    "Rep <- 1000\n",
    "sample_size <- 10\n",
    "capture <- rep(0, Rep)\n",
    "Bounds <- matrix(0, nrow = Rep, ncol = 2)\n",
    "for (i in 1:Rep) {\n",
    "  mu <- 2\n",
    "  x <- rpois(sample_size, mu)\n",
    "  bounds <- CI(x)\n",
    "  capture[i] <- ((bounds$lower <= mu) & (mu <= bounds$upper))\n",
    "  Bounds[i,] <- unlist( bounds )\n",
    "}\n",
    "cat(\"the emprical coverage probability = \", mean(capture)) # empirical size"
   ]
  },
  {
   "cell_type": "markdown",
   "metadata": {},
   "source": [
    "25 replications"
   ]
  },
  {
   "cell_type": "code",
   "execution_count": 3,
   "metadata": {},
   "outputs": [
    {
     "data": {
      "image/png": "[encoded data removed]",
      "text/plain": [
       "plot without title"
      ]
     },
     "metadata": {},
     "output_type": "display_data"
    }
   ],
   "source": [
    "Bounds25 <- Bounds[1:25, ]\n",
    "plot(1, type=\"n\", xlab=\"\", ylab=\"\", \n",
    "     ylim=c(min(Bounds25), max(Bounds25)), xlim=c(1, 25))\n",
    "segments(x0= 1:25, y0=Bounds25[,1], x1 = 1:25, y1 = Bounds25[,2])\n",
    "abline(h=2, col = \"red\", lty = 2, lwd = 2)"
   ]
  }
 ],
 "metadata": {
  "kernelspec": {
   "display_name": "R",
   "language": "R",
   "name": "ir"
  },
  "language_info": {
   "codemirror_mode": "r",
   "file_extension": ".r",
   "mimetype": "text/x-r-source",
   "name": "R",
   "pygments_lexer": "r",
   "version": "3.5.3"
  },
  "orig_nbformat": 4
 },
 "nbformat": 4,
 "nbformat_minor": 2
}
